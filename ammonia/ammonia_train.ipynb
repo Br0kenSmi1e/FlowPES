{
 "cells": [
  {
   "cell_type": "markdown",
   "metadata": {},
   "source": [
    "This notebook is adapted from https://colab.research.google.com/drive/1yIlPo5CAjYrqWHeFEZrMlzWNCoNJ6_YP#scrollTo=eQwLElKmaowu"
   ]
  },
  {
   "cell_type": "code",
   "execution_count": 99,
   "metadata": {},
   "outputs": [],
   "source": [
    "import jax\n",
    "jax.config.update(\"jax_enable_x64\", True)\n",
    "# jax.config.update(\"jax_debug_nans\", True)\n",
    "import jax.numpy as jnp\n",
    "from jax.example_libraries.stax import Dense, LeakyRelu, serial\n",
    "# from jax.nn import relu\n",
    "import pandas as pd\n",
    "import optax"
   ]
  },
  {
   "cell_type": "code",
   "execution_count": 100,
   "metadata": {},
   "outputs": [],
   "source": [
    "def layer(transform):\n",
    "\n",
    "    def init_fun(rng, input_dim):\n",
    "        cutoff = input_dim // 2\n",
    "        perm = jnp.arange(input_dim)[::-1]\n",
    "        params, trans_fun = transform(rng, cutoff, 2 * (input_dim - cutoff))\n",
    "\n",
    "        def direct_fun(params, inputs):\n",
    "            lower, upper = inputs[:, :cutoff], inputs[:, cutoff:]\n",
    "\n",
    "            log_weight, bias = jnp.array_split(trans_fun(params, lower), 2, axis=1)\n",
    "            upper = upper * jnp.exp(log_weight) + bias\n",
    "\n",
    "            outputs = jnp.concatenate([lower, upper], axis=1)\n",
    "            return outputs[:,perm]\n",
    "\n",
    "        def inverse_fun(params, inputs):\n",
    "            inputs = inputs[:, perm]\n",
    "            lower, upper = inputs[:, :cutoff], inputs[:, cutoff:]\n",
    "\n",
    "            log_weight, bias = jnp.array_split(trans_fun(params, lower), 2, axis=1)\n",
    "            upper = (upper - bias) * jnp.exp(-log_weight)\n",
    "\n",
    "            outputs = jnp.concatenate([lower, upper], axis=1)\n",
    "            return outputs\n",
    "\n",
    "        return params, direct_fun, inverse_fun\n",
    "\n",
    "    return init_fun"
   ]
  },
  {
   "cell_type": "code",
   "execution_count": 101,
   "metadata": {},
   "outputs": [],
   "source": [
    "def RealNVP(transform, n: int):\n",
    "\n",
    "    def init_fun(rng, input_dim):\n",
    "\n",
    "        all_params, direct_funs, inverse_funs = [], [], []\n",
    "        for _ in range(n):\n",
    "            rng, layer_rng = jax.random.split(rng)\n",
    "            init_fun = layer(transform)\n",
    "            param, direct_fun, inverse_fun = init_fun(layer_rng, input_dim)\n",
    "\n",
    "            all_params.append(param)\n",
    "            direct_funs.append(direct_fun)\n",
    "            inverse_funs.append(inverse_fun)\n",
    "\n",
    "        def feed_forward(params, apply_funs, inputs):\n",
    "            for apply_fun, param in zip(apply_funs, params):\n",
    "                inputs = apply_fun(param, inputs)\n",
    "            return inputs\n",
    "\n",
    "        def direct_fun(params, inputs):\n",
    "            return feed_forward(params, direct_funs, inputs)\n",
    "\n",
    "        def inverse_fun(params, inputs):\n",
    "            return feed_forward(reversed(params), reversed(inverse_funs), inputs)\n",
    "\n",
    "        return all_params, direct_fun, inverse_fun\n",
    "\n",
    "    return init_fun"
   ]
  },
  {
   "cell_type": "code",
   "execution_count": 102,
   "metadata": {},
   "outputs": [],
   "source": [
    "def polypot(tau, a, u0):\n",
    "    return u0 + (tau[0]**2 - a**2)**2 + tau[1]**2 + tau[2]**2"
   ]
  },
  {
   "cell_type": "code",
   "execution_count": 103,
   "metadata": {},
   "outputs": [],
   "source": [
    "def make_error_loss(flow_forward, data_file):\n",
    "    data = pd.read_csv(data_file)\n",
    "    inputs = jnp.array([[theta, phi, psi] for theta, phi, psi in zip(data[\"theta\"], data[\"phi\"], data[\"psi\"])])\n",
    "    energy = jnp.array(data[\"energy\"]) / 1e4\n",
    "    batch_decoupled_energy = jax.vmap(polypot, (0, None, None), 0)\n",
    "\n",
    "    def loss(params, a, u0):\n",
    "        outputs = flow_forward(params, inputs)\n",
    "        decoupled_energy = batch_decoupled_energy(outputs, a, u0)\n",
    "        return jnp.mean( (decoupled_energy - energy) ** 2 )\n",
    "    \n",
    "    return loss"
   ]
  },
  {
   "cell_type": "code",
   "execution_count": 104,
   "metadata": {},
   "outputs": [],
   "source": [
    "dim = 3\n",
    "nlayers = 10\n",
    "rng = jax.random.PRNGKey(42)\n",
    "\n",
    "def transform(rng, cutoff: int, other: int):\n",
    "            net_init, net_apply = serial(Dense(16), LeakyRelu, Dense(16), LeakyRelu, Dense(other))\n",
    "            in_shape = (-1, cutoff)\n",
    "            out_shape, net_params = net_init(rng, in_shape)\n",
    "            return net_params, net_apply\n",
    "\n",
    "flow_init = RealNVP(transform, nlayers)\n",
    "\n",
    "init_rng, rng = jax.random.split(rng)\n",
    "params, flow_forward, flow_inverse = flow_init(init_rng, dim)\n",
    "\n",
    "loss = make_error_loss(flow_forward, \"./nh3_inv_pes_train.txt\")\n",
    "valid_loss = make_error_loss(flow_forward, \"./nh3_inv_pes_valid.txt\")\n",
    "test_loss = make_error_loss(flow_forward, \"./nh3_inv_pes_test.txt\")\n",
    "value_and_grad = jax.value_and_grad(loss, argnums=(0, 1, 2), has_aux=False)\n",
    "\n",
    "params_step_size = 1e-3\n",
    "params_optimizer = optax.adam(params_step_size)\n",
    "params_opt_state = params_optimizer.init(params)\n",
    "\n",
    "a = 1.0\n",
    "a_step_size = 1e-3\n",
    "a_optimizer = optax.adam(a_step_size)\n",
    "a_opt_state = a_optimizer.init(a)\n",
    "\n",
    "u0 = 0.5\n",
    "u0_step_size = 1e-3\n",
    "u0_optimizer = optax.adam(u0_step_size)\n",
    "u0_opt_state = u0_optimizer.init(u0)"
   ]
  },
  {
   "cell_type": "code",
   "execution_count": 105,
   "metadata": {},
   "outputs": [],
   "source": [
    "@jax.jit\n",
    "def step(params, a, u0, params_opt_state, a_opt_state, u0_opt_state):\n",
    "    value, grad = value_and_grad(params, a, u0)\n",
    "    params_grad, a_grad, u0_grad = grad\n",
    "    params_updates, params_opt_state = params_optimizer.update(params_grad, params_opt_state)\n",
    "    a_updates, a_opt_state = a_optimizer.update(a_grad, a_opt_state)\n",
    "    u0_updates, u0_opt_state = u0_optimizer.update(u0_grad, u0_opt_state)\n",
    "    params = optax.apply_updates(params, params_updates)\n",
    "    a = optax.apply_updates(a, a_updates)\n",
    "    u0 = optax.apply_updates(u0, u0_updates)\n",
    "    return value, params, a, u0, params_opt_state, u0_opt_state"
   ]
  },
  {
   "cell_type": "code",
   "execution_count": 106,
   "metadata": {},
   "outputs": [
    {
     "name": "stdout",
     "output_type": "stream",
     "text": [
      "0.4667556067978575\n"
     ]
    }
   ],
   "source": [
    "train_loss_history = []\n",
    "valid_loss_history = []\n",
    "# test_loss_history = []\n",
    "nsteps = 6000\n",
    "for i in range(nsteps):\n",
    "    value, params, a, u0, params_opt_state, u0_opt_state = step(params, a, u0, params_opt_state, a_opt_state, u0_opt_state)\n",
    "    train_loss_history.append(value)\n",
    "    valid_loss_history.append(valid_loss(params, a, u0))\n",
    "    # test_loss_history.append(test_loss(params, u0))\n",
    "    # print(i, value)\n",
    "# print(u0)\n",
    "print(test_loss(params, a, u0))\n",
    "output = flow_inverse(params, jnp.array([[0, 0, 0]]))"
   ]
  },
  {
   "cell_type": "code",
   "execution_count": 107,
   "metadata": {},
   "outputs": [
    {
     "name": "stderr",
     "output_type": "stream",
     "text": [
      "/var/folders/hf/60jhbx_s40b92cvfxl5gbbb80000gn/T/ipykernel_7485/1486418869.py:9: UserWarning: FigureCanvasAgg is non-interactive, and thus cannot be shown\n",
      "  fig.show()\n"
     ]
    },
    {
     "data": {
      "image/png": "[encoded data removed]",
      "text/plain": [
       "<Figure size 640x480 with 1 Axes>"
      ]
     },
     "metadata": {},
     "output_type": "display_data"
    }
   ],
   "source": [
    "import matplotlib.pyplot as plt\n",
    "fig, ax = plt.subplots()\n",
    "start_step = 2000\n",
    "ax.plot(range(start_step, nsteps), train_loss_history[start_step:nsteps], label = \"train\")\n",
    "ax.plot(range(start_step, nsteps), valid_loss_history[start_step:nsteps], label = \"valid\")\n",
    "# ax.plot(range(start_step, nsteps), test_loss_history[start_step:nsteps], label = \"test\")\n",
    "ax.legend(loc=\"upper right\")\n",
    "fig.tight_layout()\n",
    "fig.show()"
   ]
  }
 ],
 "metadata": {
  "kernelspec": {
   "display_name": "FlowPES",
   "language": "python",
   "name": "python3"
  },
  "language_info": {
   "codemirror_mode": {
    "name": "ipython",
    "version": 3
   },
   "file_extension": ".py",
   "mimetype": "text/x-python",
   "name": "python",
   "nbconvert_exporter": "python",
   "pygments_lexer": "ipython3",
   "version": "3.10.16"
  }
 },
 "nbformat": 4,
 "nbformat_minor": 2
}
