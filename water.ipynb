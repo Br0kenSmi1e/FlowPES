{
 "cells": [
  {
   "cell_type": "markdown",
   "metadata": {},
   "source": [
    "This notebook is adapted from https://colab.research.google.com/drive/1yIlPo5CAjYrqWHeFEZrMlzWNCoNJ6_YP#scrollTo=eQwLElKmaowu"
   ]
  },
  {
   "cell_type": "code",
   "execution_count": 12,
   "metadata": {},
   "outputs": [],
   "source": [
    "import jax\n",
    "jax.config.update(\"jax_enable_x64\", True)\n",
    "jax.config.update(\"jax_debug_nans\", True)\n",
    "import jax.numpy as jnp\n",
    "from jax.example_libraries.stax import Dense, Relu, serial\n",
    "import pandas as pd\n",
    "import optax"
   ]
  },
  {
   "cell_type": "markdown",
   "metadata": {},
   "source": [
    "# Basic Idea\n",
    "\n",
    "In this notebook, we employ `Real NVP` to simplify the Potential Energy Surface (PES) of $\\text{H}_2 \\text{O}$ molecule.\n",
    "\n",
    "First, we express the PES in terms of bond lengths $r_1, r_2$ of two $\\text{O-H}$ bonds and bond angle $\\theta$ between two $\\text{O-H}$ bonds.\n",
    "(Actually, we made a transformation, using the Morse variable and the cosine.)\n",
    "$$E = V(\\boldsymbol{x}),\\quad \\boldsymbol{x} = (e^{-r_1/\\rho}, e^{-r_2/\\rho}, \\cos\\theta),\\ \\rho = 1\\text{\\AA}$$\n",
    "\n",
    "`Real NVP` allows us to make a invertible transformation, parameterized by $\\text{params}$, of the input vector $\\boldsymbol{x}$,\n",
    "$$\\boldsymbol{\\tau} = f(\\boldsymbol{x}|\\text{params}).$$\n",
    "And we assume that the PES is of a simple form in terms of $\\boldsymbol{\\tau}$.\n",
    "In this notebook, we take a harmonic potential well, parameterized by $u_0$,\n",
    "$$E = U(\\boldsymbol{\\tau}|u_0) = ||\\boldsymbol{\\tau}||^2 + u_0.$$\n",
    "\n",
    "Ideally, we would have\n",
    "$$E = V(\\boldsymbol{x}) = U(f(\\boldsymbol{x}|\\text{params})|u_0).$$\n",
    "So we can set our loss function to be the error\n",
    "$$\\mathcal{L}(\\text{params}, u_0) = \\frac{1}{N} \\sum_{n = 1}^{N} [E_n - U(f(\\boldsymbol{x}_n|\\text{params})|u_0)]^2,$$\n",
    "where $\\mathcal{D} = \\{(\\boldsymbol{x}_n, E_n)|1\\leq n\\leq N\\}$ is our dataset.\n",
    "\n",
    "It is clear that the stable configuration is reached at $\\boldsymbol{\\tau}=\\boldsymbol{0}$, and since `Real NVP` is invertible, we know that\n",
    "$$\\boldsymbol{x}^* = f^{-1}(\\boldsymbol{0}|\\text{params})$$\n",
    "is the stable configuration."
   ]
  },
  {
   "cell_type": "code",
   "execution_count": 13,
   "metadata": {},
   "outputs": [],
   "source": [
    "def layer(transform):\n",
    "\n",
    "    def init_fun(rng, input_dim):\n",
    "        cutoff = input_dim // 2\n",
    "        perm = jnp.arange(input_dim)[::-1]\n",
    "        params, trans_fun = transform(rng, cutoff, 2 * (input_dim - cutoff))\n",
    "\n",
    "        def direct_fun(params, inputs):\n",
    "            lower, upper = inputs[:, :cutoff], inputs[:, cutoff:]\n",
    "\n",
    "            log_weight, bias = jnp.array_split(trans_fun(params, lower), 2, axis=1)\n",
    "            upper = upper * jnp.exp(log_weight) + bias\n",
    "\n",
    "            outputs = jnp.concatenate([lower, upper], axis=1)\n",
    "            log_det_jacobian = log_weight.sum(-1)\n",
    "            return outputs[:,perm], log_det_jacobian\n",
    "\n",
    "        def inverse_fun(params, inputs):\n",
    "            inputs = inputs[:, perm]\n",
    "            lower, upper = inputs[:, :cutoff], inputs[:, cutoff:]\n",
    "\n",
    "            log_weight, bias = jnp.array_split(trans_fun(params, lower), 2, axis=1)\n",
    "            upper = (upper - bias) * jnp.exp(-log_weight)\n",
    "\n",
    "            outputs = jnp.concatenate([lower, upper], axis=1)\n",
    "            log_det_jacobian = log_weight.sum(-1)\n",
    "            return outputs, log_det_jacobian\n",
    "\n",
    "        return params, direct_fun, inverse_fun\n",
    "\n",
    "    return init_fun"
   ]
  },
  {
   "cell_type": "code",
   "execution_count": 14,
   "metadata": {},
   "outputs": [],
   "source": [
    "def RealNVP(transform, n: int):\n",
    "\n",
    "    def init_fun(rng, input_dim):\n",
    "\n",
    "        all_params, direct_funs, inverse_funs = [], [], []\n",
    "        for _ in range(n):\n",
    "            rng, layer_rng = jax.random.split(rng)\n",
    "            init_fun = layer(transform)\n",
    "            param, direct_fun, inverse_fun = init_fun(layer_rng, input_dim)\n",
    "\n",
    "            all_params.append(param)\n",
    "            direct_funs.append(direct_fun)\n",
    "            inverse_funs.append(inverse_fun)\n",
    "\n",
    "        def feed_forward(params, apply_funs, inputs):\n",
    "            log_det_jacobians = jnp.zeros(inputs.shape[:1])\n",
    "            for apply_fun, param in zip(apply_funs, params):\n",
    "                inputs, log_det_jacobian = apply_fun(param, inputs)\n",
    "                log_det_jacobians += log_det_jacobian\n",
    "            return inputs, log_det_jacobians\n",
    "\n",
    "        def direct_fun(params, inputs):\n",
    "            return feed_forward(params, direct_funs, inputs)\n",
    "\n",
    "        def inverse_fun(params, inputs):\n",
    "            return feed_forward(reversed(params), reversed(inverse_funs), inputs)\n",
    "\n",
    "        return all_params, direct_fun, inverse_fun\n",
    "\n",
    "    return init_fun"
   ]
  },
  {
   "cell_type": "markdown",
   "metadata": {},
   "source": [
    "For detailed discussion about `Real NVP`, see [arXiv:1605.08803](https://arxiv.org/abs/1605.08803)."
   ]
  },
  {
   "cell_type": "code",
   "execution_count": 15,
   "metadata": {},
   "outputs": [],
   "source": [
    "def harmonic_potential(tau, u0):\n",
    "    return jnp.linalg.norm(tau) + u0"
   ]
  },
  {
   "cell_type": "code",
   "execution_count": 16,
   "metadata": {},
   "outputs": [],
   "source": [
    "def make_error_loss(flow_forward, data_file):\n",
    "    data = pd.read_csv(data_file, sep='\\s+')\n",
    "    inputs = jnp.array([[jnp.exp(-r1), jnp.exp(-r2), jnp.cos(theta*jnp.pi/180)] for r1, r2, theta in zip(data[\"r1\"], data[\"r2\"], data[\"theta\"])])\n",
    "    energy = jnp.array(data[\"energy\"]) + 76\n",
    "    batch_decoupled_energy = jax.vmap(harmonic_potential, (0, None), 0)\n",
    "\n",
    "    def loss(params, u0):\n",
    "        outputs, _ = flow_forward(params, inputs)\n",
    "        decoupled_energy = batch_decoupled_energy(outputs, u0)\n",
    "        return jnp.mean( (decoupled_energy - energy) ** 2 )\n",
    "    \n",
    "    return loss"
   ]
  },
  {
   "cell_type": "markdown",
   "metadata": {},
   "source": [
    "The data are generated from _ab initio_ calculations.\n",
    "\n",
    "See [J. Chem. Phys. 106, 4618–4639 (1997)](https://doi.org/10.1063/1.473987) for details.\n",
    "\n",
    "The dataset used here is adapted from supplementary data of this article."
   ]
  },
  {
   "cell_type": "code",
   "execution_count": 17,
   "metadata": {},
   "outputs": [],
   "source": [
    "batchsize = 8192\n",
    "n = 1\n",
    "dim = 3\n",
    "nlayers = 3\n",
    "rng = jax.random.PRNGKey(42)\n",
    "\n",
    "def transform(rng, cutoff: int, other: int):\n",
    "            net_init, net_apply = serial(Dense(16), Relu, Dense(16), Relu, Dense(other))\n",
    "            in_shape = (-1, cutoff)\n",
    "            out_shape, net_params = net_init(rng, in_shape)\n",
    "            return net_params, net_apply\n",
    "\n",
    "flow_init = RealNVP(transform, nlayers)\n",
    "\n",
    "init_rng, rng = jax.random.split(rng)\n",
    "params, flow_forward, flow_inverse = flow_init(init_rng, 3)\n",
    "\n",
    "loss = make_error_loss(flow_forward, \"./h2opes/h2opes.txt\")\n",
    "val_loss = make_error_loss(flow_forward, \"./h2opes/h2opes_val.txt\")\n",
    "value_and_grad = jax.value_and_grad(loss, argnums=(0, 1), has_aux=False)\n",
    "\n",
    "params_optimizer = optax.adam(0.01)\n",
    "params_opt_state = params_optimizer.init(params)\n",
    "\n",
    "u0 = 0.0\n",
    "u0_optimizer = optax.adam(0.01)\n",
    "u0_opt_state = u0_optimizer.init(u0)"
   ]
  },
  {
   "cell_type": "code",
   "execution_count": 18,
   "metadata": {},
   "outputs": [],
   "source": [
    "@jax.jit\n",
    "def step(params, u0, params_opt_state, u0_opt_state):\n",
    "    value, grad = value_and_grad(params, u0)\n",
    "    params_grad, u0_grad = grad\n",
    "    params_updates, params_opt_state = params_optimizer.update(params_grad, params_opt_state)\n",
    "    u0_updates, u0_opt_state = u0_optimizer.update(u0_grad, u0_opt_state)\n",
    "    params = optax.apply_updates(params, params_updates)\n",
    "    u0 = optax.apply_updates(u0, u0_updates)\n",
    "    return value, params, u0, params_opt_state, u0_opt_state"
   ]
  },
  {
   "cell_type": "code",
   "execution_count": 19,
   "metadata": {},
   "outputs": [],
   "source": [
    "loss_history = []\n",
    "val_loss_history = []\n",
    "for i in range(1000):\n",
    "    value, params, u0, params_opt_state, u0_opt_state = step(params, u0, params_opt_state, u0_opt_state)\n",
    "    loss_history.append(value)\n",
    "    val_loss_history.append(val_loss(params, u0))\n",
    "    # print(i, value)\n",
    "# print(u0)\n",
    "output = flow_inverse(params, jnp.array([[0, 0, 0]]))"
   ]
  },
  {
   "cell_type": "code",
   "execution_count": 20,
   "metadata": {},
   "outputs": [
    {
     "name": "stderr",
     "output_type": "stream",
     "text": [
      "/var/folders/hf/60jhbx_s40b92cvfxl5gbbb80000gn/T/ipykernel_2211/1925357900.py:6: UserWarning: FigureCanvasAgg is non-interactive, and thus cannot be shown\n",
      "  fig.show()\n"
     ]
    },
    {
     "data": {
      "image/png": "[encoded data removed]",
      "text/plain": [
       "<Figure size 640x480 with 1 Axes>"
      ]
     },
     "metadata": {},
     "output_type": "display_data"
    }
   ],
   "source": [
    "import matplotlib.pyplot as plt\n",
    "fig, ax = plt.subplots()\n",
    "ax.plot(range(50, 1000), loss_history[50:1000], label = \"train\")\n",
    "ax.plot(range(50, 1000), val_loss_history[50:1000], label = \"val\")\n",
    "fig.legend()\n",
    "fig.show()"
   ]
  },
  {
   "cell_type": "code",
   "execution_count": 21,
   "metadata": {},
   "outputs": [
    {
     "name": "stdout",
     "output_type": "stream",
     "text": [
      "1.0307119457809244 0.8229159141432981 116.17684217974399\n"
     ]
    }
   ],
   "source": [
    "print(-jnp.log(output[0][0][0]), -jnp.log(output[0][0][1]), jnp.acos(output[0][0][2]) * 180 / jnp.pi)"
   ]
  },
  {
   "cell_type": "markdown",
   "metadata": {},
   "source": [
    "# Results\n",
    "\n",
    "The output is $r_1, r_2, \\theta = 0.95\\text{\\AA}, 1.02\\text{\\AA}, 105.6^{\\circ}$.\n",
    "\n",
    "The actual configuration is $r_1, r_2, \\theta = 0.95\\text{\\AA}, 0.95\\text{\\AA}, 104.5^{\\circ}$."
   ]
  },
  {
   "cell_type": "markdown",
   "metadata": {},
   "source": [
    "# More than ...\n",
    "When at extrema of PES, we have\n",
    "$$\\nabla_{\\boldsymbol{x}} E = \\nabla V = \\boldsymbol{0}.$$\n",
    "And by definition of Jacobi matrix, we know that\n",
    "$$\\nabla_{\\boldsymbol{\\tau}} E = \\boldsymbol{J} \\nabla_{\\boldsymbol{x}} E = \\boldsymbol{0}.$$\n",
    "Also notice that `Real NVP` is invertible, thus, $V$ and $U$ have the same number of extrema.\n",
    "Furthur more, there is a one-to-one correspondence between extrema of $V$ and $U$, which is $f(\\ \\cdot\\ |\\text{params})$.\n",
    "\n",
    "Similar transformation works for second order derivatives.\n",
    "$$\\frac{\\partial^2 E}{\\partial\\tau_i\\partial\\tau_j} = \\frac{\\partial}{\\partial\\tau_i} \\sum_k \\frac{\\partial E}{\\partial x_k} \\frac{\\partial x_k}{\\partial \\tau_j} = \\sum_k \\left(\\frac{\\partial^2 E}{\\partial x_k \\partial\\tau_i} \\frac{\\partial x_k}{\\partial\\tau_j} + \\frac{\\partial E}{\\partial x_k}\\frac{\\partial^2 x_k}{\\partial\\tau_i\\partial\\tau_j}\\right) = \\sum_{k,k'}\\frac{\\partial^2 E}{\\partial x_k \\partial x_{k'}} \\frac{\\partial x_{k'}}{\\partial\\tau_i} \\frac{\\partial x_{k}}{\\partial\\tau_j}$$\n",
    "which is, in terms of the matrix product,\n",
    "$$\\boldsymbol{H}_{\\boldsymbol{\\tau}} = \\boldsymbol{J}\\boldsymbol{H}_{\\boldsymbol{x}}\\boldsymbol{J}^\\dagger.$$\n",
    "So, the vibrational modes may be obtained from the transformed PES."
   ]
  }
 ],
 "metadata": {
  "kernelspec": {
   "display_name": "FlowPES",
   "language": "python",
   "name": "python3"
  },
  "language_info": {
   "codemirror_mode": {
    "name": "ipython",
    "version": 3
   },
   "file_extension": ".py",
   "mimetype": "text/x-python",
   "name": "python",
   "nbconvert_exporter": "python",
   "pygments_lexer": "ipython3",
   "version": "3.10.16"
  }
 },
 "nbformat": 4,
 "nbformat_minor": 2
}
